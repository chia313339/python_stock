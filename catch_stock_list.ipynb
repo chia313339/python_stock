{
 "cells": [
  {
   "cell_type": "code",
   "execution_count": 1,
   "metadata": {},
   "outputs": [],
   "source": [
    "import requests\n",
    "from bs4 import BeautifulSoup\n",
    "import pandas as pd\n",
    "import lxml"
   ]
  },
  {
   "cell_type": "code",
   "execution_count": 2,
   "metadata": {},
   "outputs": [],
   "source": [
    "res = requests.get('http://isin.twse.com.tw/isin/C_public.jsp?strMode=2')\n",
    "soup = BeautifulSoup(res.text, 'html.parser')"
   ]
  },
  {
   "cell_type": "code",
   "execution_count": 3,
   "metadata": {},
   "outputs": [],
   "source": [
    "# 抓取股票代碼清單\n",
    "df = pd.read_html('http://isin.twse.com.tw/isin/C_public.jsp?strMode=2',encoding='big5hkscs')[0]"
   ]
  },
  {
   "cell_type": "code",
   "execution_count": 4,
   "metadata": {},
   "outputs": [],
   "source": [
    "# 更改欄位名稱\n",
    "df.columns = df.iloc[0]\n",
    "# 刪除第一列多餘的欄位名稱\n",
    "df = df[1::]"
   ]
  },
  {
   "cell_type": "code",
   "execution_count": 5,
   "metadata": {},
   "outputs": [],
   "source": [
    "# 篩選股票及ETF的代碼，並刪除不要的欄位\n",
    "df = df[df['CFICode'].isin(['ESVUFR','CEOGEU'])].drop(['國際證券辨識號碼(ISIN Code)','市場別','備註'],axis=1)\n",
    "# 重新排列index\n",
    "df.index = range(len(df))"
   ]
  },
  {
   "cell_type": "code",
   "execution_count": 6,
   "metadata": {},
   "outputs": [],
   "source": [
    "# 將股票代碼及股票名稱拆開\n",
    "stock_no = []\n",
    "stock_name = []\n",
    "for stock in list(df['有價證券代號及名稱']):\n",
    "    stock_tmp = stock.split()\n",
    "    stock_no.append(stock_tmp[0]) \n",
    "    stock_name.append(stock_tmp[1])    "
   ]
  },
  {
   "cell_type": "code",
   "execution_count": 7,
   "metadata": {},
   "outputs": [],
   "source": [
    "# 將新的股票代碼及名稱取代原有欄位\n",
    "df2 = pd.concat([pd.DataFrame({'代碼':stock_no,'名稱':stock_name}), df.drop('有價證券代號及名稱',axis=1)], axis = 1)"
   ]
  },
  {
   "cell_type": "code",
   "execution_count": 24,
   "metadata": {},
   "outputs": [
    {
     "data": {
      "text/html": [
       "<div>\n",
       "<style scoped>\n",
       "    .dataframe tbody tr th:only-of-type {\n",
       "        vertical-align: middle;\n",
       "    }\n",
       "\n",
       "    .dataframe tbody tr th {\n",
       "        vertical-align: top;\n",
       "    }\n",
       "\n",
       "    .dataframe thead th {\n",
       "        text-align: right;\n",
       "    }\n",
       "</style>\n",
       "<table border=\"1\" class=\"dataframe\">\n",
       "  <thead>\n",
       "    <tr style=\"text-align: right;\">\n",
       "      <th></th>\n",
       "      <th>代碼</th>\n",
       "      <th>名稱</th>\n",
       "      <th>上市日</th>\n",
       "      <th>產業別</th>\n",
       "      <th>CFICode</th>\n",
       "    </tr>\n",
       "  </thead>\n",
       "  <tbody>\n",
       "    <tr>\n",
       "      <th>0</th>\n",
       "      <td>1101</td>\n",
       "      <td>台泥</td>\n",
       "      <td>1962/02/09</td>\n",
       "      <td>水泥工業</td>\n",
       "      <td>ESVUFR</td>\n",
       "    </tr>\n",
       "    <tr>\n",
       "      <th>1</th>\n",
       "      <td>1102</td>\n",
       "      <td>亞泥</td>\n",
       "      <td>1962/06/08</td>\n",
       "      <td>水泥工業</td>\n",
       "      <td>ESVUFR</td>\n",
       "    </tr>\n",
       "    <tr>\n",
       "      <th>2</th>\n",
       "      <td>1103</td>\n",
       "      <td>嘉泥</td>\n",
       "      <td>1969/11/14</td>\n",
       "      <td>水泥工業</td>\n",
       "      <td>ESVUFR</td>\n",
       "    </tr>\n",
       "    <tr>\n",
       "      <th>3</th>\n",
       "      <td>1104</td>\n",
       "      <td>環泥</td>\n",
       "      <td>1971/02/01</td>\n",
       "      <td>水泥工業</td>\n",
       "      <td>ESVUFR</td>\n",
       "    </tr>\n",
       "    <tr>\n",
       "      <th>4</th>\n",
       "      <td>1108</td>\n",
       "      <td>幸福</td>\n",
       "      <td>1990/06/06</td>\n",
       "      <td>水泥工業</td>\n",
       "      <td>ESVUFR</td>\n",
       "    </tr>\n",
       "  </tbody>\n",
       "</table>\n",
       "</div>"
      ],
      "text/plain": [
       "     代碼  名稱         上市日   產業別 CFICode\n",
       "0  1101  台泥  1962/02/09  水泥工業  ESVUFR\n",
       "1  1102  亞泥  1962/06/08  水泥工業  ESVUFR\n",
       "2  1103  嘉泥  1969/11/14  水泥工業  ESVUFR\n",
       "3  1104  環泥  1971/02/01  水泥工業  ESVUFR\n",
       "4  1108  幸福  1990/06/06  水泥工業  ESVUFR"
      ]
     },
     "execution_count": 24,
     "metadata": {},
     "output_type": "execute_result"
    }
   ],
   "source": [
    "df2.head(5)"
   ]
  },
  {
   "cell_type": "code",
   "execution_count": 11,
   "metadata": {},
   "outputs": [],
   "source": [
    "# 儲存csv檔供後續使用\n",
    "df2.to_csv('stock_list.csv',index=False,encoding='utf-8')"
   ]
  },
  {
   "cell_type": "code",
   "execution_count": 25,
   "metadata": {},
   "outputs": [
    {
     "data": {
      "text/html": [
       "<div>\n",
       "<style scoped>\n",
       "    .dataframe tbody tr th:only-of-type {\n",
       "        vertical-align: middle;\n",
       "    }\n",
       "\n",
       "    .dataframe tbody tr th {\n",
       "        vertical-align: top;\n",
       "    }\n",
       "\n",
       "    .dataframe thead th {\n",
       "        text-align: right;\n",
       "    }\n",
       "</style>\n",
       "<table border=\"1\" class=\"dataframe\">\n",
       "  <thead>\n",
       "    <tr style=\"text-align: right;\">\n",
       "      <th></th>\n",
       "      <th>代碼</th>\n",
       "      <th>名稱</th>\n",
       "      <th>上市日</th>\n",
       "      <th>產業別</th>\n",
       "      <th>CFICode</th>\n",
       "    </tr>\n",
       "  </thead>\n",
       "  <tbody>\n",
       "    <tr>\n",
       "      <th>0</th>\n",
       "      <td>1101</td>\n",
       "      <td>台泥</td>\n",
       "      <td>1962/02/09</td>\n",
       "      <td>水泥工業</td>\n",
       "      <td>ESVUFR</td>\n",
       "    </tr>\n",
       "    <tr>\n",
       "      <th>1</th>\n",
       "      <td>1102</td>\n",
       "      <td>亞泥</td>\n",
       "      <td>1962/06/08</td>\n",
       "      <td>水泥工業</td>\n",
       "      <td>ESVUFR</td>\n",
       "    </tr>\n",
       "    <tr>\n",
       "      <th>2</th>\n",
       "      <td>1103</td>\n",
       "      <td>嘉泥</td>\n",
       "      <td>1969/11/14</td>\n",
       "      <td>水泥工業</td>\n",
       "      <td>ESVUFR</td>\n",
       "    </tr>\n",
       "    <tr>\n",
       "      <th>3</th>\n",
       "      <td>1104</td>\n",
       "      <td>環泥</td>\n",
       "      <td>1971/02/01</td>\n",
       "      <td>水泥工業</td>\n",
       "      <td>ESVUFR</td>\n",
       "    </tr>\n",
       "    <tr>\n",
       "      <th>4</th>\n",
       "      <td>1108</td>\n",
       "      <td>幸福</td>\n",
       "      <td>1990/06/06</td>\n",
       "      <td>水泥工業</td>\n",
       "      <td>ESVUFR</td>\n",
       "    </tr>\n",
       "  </tbody>\n",
       "</table>\n",
       "</div>"
      ],
      "text/plain": [
       "     代碼  名稱         上市日   產業別 CFICode\n",
       "0  1101  台泥  1962/02/09  水泥工業  ESVUFR\n",
       "1  1102  亞泥  1962/06/08  水泥工業  ESVUFR\n",
       "2  1103  嘉泥  1969/11/14  水泥工業  ESVUFR\n",
       "3  1104  環泥  1971/02/01  水泥工業  ESVUFR\n",
       "4  1108  幸福  1990/06/06  水泥工業  ESVUFR"
      ]
     },
     "execution_count": 25,
     "metadata": {},
     "output_type": "execute_result"
    }
   ],
   "source": [
    "# 讀檔測試\n",
    "dd = pd.read_csv('stock_list.csv',encoding='utf-8')\n",
    "dd.head(5)"
   ]
  }
 ],
 "metadata": {
  "kernelspec": {
   "display_name": "Python 3",
   "language": "python",
   "name": "python3"
  },
  "language_info": {
   "codemirror_mode": {
    "name": "ipython",
    "version": 3
   },
   "file_extension": ".py",
   "mimetype": "text/x-python",
   "name": "python",
   "nbconvert_exporter": "python",
   "pygments_lexer": "ipython3",
   "version": "3.6.6"
  }
 },
 "nbformat": 4,
 "nbformat_minor": 2
}
